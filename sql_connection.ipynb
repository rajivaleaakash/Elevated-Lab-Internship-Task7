{
 "cells": [
  {
   "cell_type": "code",
   "execution_count": 1,
   "id": "dd15652d-2f75-4425-9914-52c8837d12c8",
   "metadata": {},
   "outputs": [
    {
     "name": "stdout",
     "output_type": "stream",
     "text": [
      "Collecting mysql-connector-python\n",
      "  Downloading mysql_connector_python-9.4.0-cp312-cp312-win_amd64.whl.metadata (7.7 kB)\n",
      "Downloading mysql_connector_python-9.4.0-cp312-cp312-win_amd64.whl (16.4 MB)\n",
      "   ---------------------------------------- 0.0/16.4 MB ? eta -:--:--\n",
      "   - -------------------------------------- 0.8/16.4 MB 5.6 MB/s eta 0:00:03\n",
      "   --- ------------------------------------ 1.6/16.4 MB 4.6 MB/s eta 0:00:04\n",
      "   ----- ---------------------------------- 2.1/16.4 MB 3.6 MB/s eta 0:00:05\n",
      "   ----- ---------------------------------- 2.4/16.4 MB 3.0 MB/s eta 0:00:05\n",
      "   ------ --------------------------------- 2.6/16.4 MB 2.6 MB/s eta 0:00:06\n",
      "   ------- -------------------------------- 2.9/16.4 MB 2.3 MB/s eta 0:00:06\n",
      "   ------- -------------------------------- 3.1/16.4 MB 2.0 MB/s eta 0:00:07\n",
      "   ------- -------------------------------- 3.1/16.4 MB 2.0 MB/s eta 0:00:07\n",
      "   -------- ------------------------------- 3.4/16.4 MB 1.8 MB/s eta 0:00:08\n",
      "   -------- ------------------------------- 3.7/16.4 MB 1.6 MB/s eta 0:00:08\n",
      "   -------- ------------------------------- 3.7/16.4 MB 1.6 MB/s eta 0:00:08\n",
      "   -------- ------------------------------- 3.7/16.4 MB 1.6 MB/s eta 0:00:08\n",
      "   --------- ------------------------------ 3.9/16.4 MB 1.4 MB/s eta 0:00:09\n",
      "   ---------- ----------------------------- 4.2/16.4 MB 1.3 MB/s eta 0:00:10\n",
      "   ---------- ----------------------------- 4.2/16.4 MB 1.3 MB/s eta 0:00:10\n",
      "   ----------- ---------------------------- 4.7/16.4 MB 1.3 MB/s eta 0:00:09\n",
      "   ----------- ---------------------------- 4.7/16.4 MB 1.3 MB/s eta 0:00:09\n",
      "   ------------ --------------------------- 5.0/16.4 MB 1.3 MB/s eta 0:00:09\n",
      "   ------------ --------------------------- 5.2/16.4 MB 1.2 MB/s eta 0:00:09\n",
      "   ------------ --------------------------- 5.2/16.4 MB 1.2 MB/s eta 0:00:09\n",
      "   ------------ --------------------------- 5.2/16.4 MB 1.2 MB/s eta 0:00:09\n",
      "   ------------- -------------------------- 5.5/16.4 MB 1.2 MB/s eta 0:00:10\n",
      "   -------------- ------------------------- 5.8/16.4 MB 1.1 MB/s eta 0:00:10\n",
      "   -------------- ------------------------- 6.0/16.4 MB 1.1 MB/s eta 0:00:10\n",
      "   -------------- ------------------------- 6.0/16.4 MB 1.1 MB/s eta 0:00:10\n",
      "   -------------- ------------------------- 6.0/16.4 MB 1.1 MB/s eta 0:00:10\n",
      "   -------------- ------------------------- 6.0/16.4 MB 1.1 MB/s eta 0:00:10\n",
      "   --------------- ------------------------ 6.3/16.4 MB 1.0 MB/s eta 0:00:10\n",
      "   --------------- ------------------------ 6.3/16.4 MB 1.0 MB/s eta 0:00:10\n",
      "   --------------- ------------------------ 6.6/16.4 MB 1.0 MB/s eta 0:00:10\n",
      "   ----------------- ---------------------- 7.1/16.4 MB 1.0 MB/s eta 0:00:10\n",
      "   ----------------- ---------------------- 7.3/16.4 MB 1.0 MB/s eta 0:00:09\n",
      "   ----------------- ---------------------- 7.3/16.4 MB 1.0 MB/s eta 0:00:09\n",
      "   ------------------ --------------------- 7.6/16.4 MB 1.0 MB/s eta 0:00:09\n",
      "   ------------------ --------------------- 7.6/16.4 MB 1.0 MB/s eta 0:00:09\n",
      "   ------------------- -------------------- 7.9/16.4 MB 999.0 kB/s eta 0:00:09\n",
      "   ------------------- -------------------- 7.9/16.4 MB 999.0 kB/s eta 0:00:09\n",
      "   ------------------- -------------------- 8.1/16.4 MB 990.7 kB/s eta 0:00:09\n",
      "   -------------------- ------------------- 8.4/16.4 MB 975.7 kB/s eta 0:00:09\n",
      "   --------------------- ------------------ 8.7/16.4 MB 981.5 kB/s eta 0:00:08\n",
      "   --------------------- ------------------ 8.9/16.4 MB 986.9 kB/s eta 0:00:08\n",
      "   --------------------- ------------------ 8.9/16.4 MB 986.9 kB/s eta 0:00:08\n",
      "   ---------------------- ----------------- 9.2/16.4 MB 981.7 kB/s eta 0:00:08\n",
      "   ----------------------- ---------------- 9.4/16.4 MB 980.2 kB/s eta 0:00:08\n",
      "   ----------------------- ---------------- 9.4/16.4 MB 980.2 kB/s eta 0:00:08\n",
      "   ----------------------- ---------------- 9.7/16.4 MB 974.1 kB/s eta 0:00:07\n",
      "   ------------------------ --------------- 10.0/16.4 MB 962.3 kB/s eta 0:00:07\n",
      "   ------------------------ --------------- 10.0/16.4 MB 962.3 kB/s eta 0:00:07\n",
      "   ------------------------- -------------- 10.5/16.4 MB 978.0 kB/s eta 0:00:07\n",
      "   -------------------------- ------------- 10.7/16.4 MB 989.8 kB/s eta 0:00:06\n",
      "   -------------------------- ------------- 11.0/16.4 MB 994.0 kB/s eta 0:00:06\n",
      "   --------------------------- ------------ 11.3/16.4 MB 998.0 kB/s eta 0:00:06\n",
      "   ---------------------------- ----------- 11.5/16.4 MB 1.0 MB/s eta 0:00:05\n",
      "   ---------------------------- ----------- 11.8/16.4 MB 1.0 MB/s eta 0:00:05\n",
      "   ---------------------------- ----------- 11.8/16.4 MB 1.0 MB/s eta 0:00:05\n",
      "   ----------------------------- ---------- 12.1/16.4 MB 988.1 kB/s eta 0:00:05\n",
      "   ----------------------------- ---------- 12.1/16.4 MB 988.1 kB/s eta 0:00:05\n",
      "   ------------------------------ --------- 12.3/16.4 MB 981.8 kB/s eta 0:00:05\n",
      "   ------------------------------ --------- 12.6/16.4 MB 977.1 kB/s eta 0:00:04\n",
      "   ------------------------------- -------- 12.8/16.4 MB 983.3 kB/s eta 0:00:04\n",
      "   ------------------------------- -------- 13.1/16.4 MB 986.9 kB/s eta 0:00:04\n",
      "   ------------------------------- -------- 13.1/16.4 MB 986.9 kB/s eta 0:00:04\n",
      "   -------------------------------- ------- 13.4/16.4 MB 974.2 kB/s eta 0:00:04\n",
      "   -------------------------------- ------- 13.4/16.4 MB 974.2 kB/s eta 0:00:04\n",
      "   --------------------------------- ------ 13.6/16.4 MB 967.9 kB/s eta 0:00:03\n",
      "   --------------------------------- ------ 13.9/16.4 MB 968.2 kB/s eta 0:00:03\n",
      "   ----------------------------------- ---- 14.4/16.4 MB 981.5 kB/s eta 0:00:03\n",
      "   ----------------------------------- ---- 14.7/16.4 MB 987.9 kB/s eta 0:00:02\n",
      "   ------------------------------------ --- 14.9/16.4 MB 993.1 kB/s eta 0:00:02\n",
      "   ------------------------------------- -- 15.2/16.4 MB 998.2 kB/s eta 0:00:02\n",
      "   -------------------------------------- - 15.7/16.4 MB 1.0 MB/s eta 0:00:01\n",
      "   ---------------------------------------  16.0/16.4 MB 1.0 MB/s eta 0:00:01\n",
      "   ---------------------------------------  16.3/16.4 MB 1.0 MB/s eta 0:00:01\n",
      "   ---------------------------------------  16.3/16.4 MB 1.0 MB/s eta 0:00:01\n",
      "   ---------------------------------------- 16.4/16.4 MB 1.0 MB/s eta 0:00:00\n",
      "Installing collected packages: mysql-connector-python\n",
      "Successfully installed mysql-connector-python-9.4.0\n",
      "Note: you may need to restart the kernel to use updated packages.\n"
     ]
    }
   ],
   "source": [
    "pip install mysql-connector-python"
   ]
  },
  {
   "cell_type": "code",
   "execution_count": 2,
   "id": "9ef9ea53-9168-4b43-966e-068edcfd32f7",
   "metadata": {},
   "outputs": [],
   "source": [
    "import mysql.connector\n",
    "\n",
    "conn = mysql.connector.connect(\n",
    "    host='localhost',         # Change to your MySQL host\n",
    "    user='root',     # Your MySQL username\n",
    "    password='AAkash@8169#', # Your MySQL password\n",
    "    database='sql_training'  # Your database name\n",
    ")"
   ]
  },
  {
   "cell_type": "code",
   "execution_count": 3,
   "id": "cf4c51cb-b704-4c49-9ab6-67227bb38f7a",
   "metadata": {},
   "outputs": [
    {
     "name": "stdout",
     "output_type": "stream",
     "text": [
      "  Product_Name  total_qty  revenue\n",
      "0       LAPTOP        1.0  50000.0\n",
      "1  JEANS PANTS        2.0   2000.0\n",
      "2   COFFIE CUP        3.0   1800.0\n",
      "3      T-SHIRT        1.0    500.0\n",
      "4        MOUSE        1.0    800.0\n",
      "5     KEYBOARD        2.0  10000.0\n"
     ]
    },
    {
     "name": "stderr",
     "output_type": "stream",
     "text": [
      "C:\\Users\\aakas\\AppData\\Local\\Temp\\ipykernel_10124\\1281015318.py:12: UserWarning: pandas only supports SQLAlchemy connectable (engine/connection) or database string URI or sqlite3 DBAPI2 connection. Other DBAPI2 objects are not tested. Please consider using SQLAlchemy.\n",
      "  df = pd.read_sql(query, conn)\n"
     ]
    }
   ],
   "source": [
    "import pandas as pd\n",
    "\n",
    "query = \"\"\"\n",
    "SELECT\n",
    "    Product_Name,\n",
    "    SUM(Quantity) AS total_qty,\n",
    "    SUM(Quantity * Price) AS revenue\n",
    "FROM Sales_Table\n",
    "GROUP BY Product_Name\n",
    "\"\"\"\n",
    "\n",
    "df = pd.read_sql(query, conn)\n",
    "\n",
    "print(df)"
   ]
  },
  {
   "cell_type": "code",
   "execution_count": 5,
   "id": "9072b8ac-d642-4b28-bb28-6f699a63f2f8",
   "metadata": {},
   "outputs": [
    {
     "data": {
      "image/png": "[encoded data removed]",
      "text/plain": [
       "<Figure size 640x480 with 1 Axes>"
      ]
     },
     "metadata": {},
     "output_type": "display_data"
    }
   ],
   "source": [
    "import matplotlib.pyplot as plt\n",
    "\n",
    "df.plot(kind='bar', x='Product_Name', y='revenue', legend=False)\n",
    "plt.ylabel('Revenue')\n",
    "plt.title('Revenue by Product')\n",
    "plt.tight_layout()\n",
    "plt.show()"
   ]
  },
  {
   "cell_type": "code",
   "execution_count": 6,
   "id": "fff22d2f-21a1-477d-9685-1f128bd40ad8",
   "metadata": {},
   "outputs": [
    {
     "data": {
      "text/plain": [
       "<Figure size 640x480 with 0 Axes>"
      ]
     },
     "metadata": {},
     "output_type": "display_data"
    }
   ],
   "source": [
    "plt.figure()\n",
    "df.plot(kind='bar', x='Product_Name', y='revenue', legend=False)\n",
    "plt.ylabel('Revenue')\n",
    "plt.title('Revenue by Product')\n",
    "plt.tight_layout()\n",
    "plt.savefig(\"sales_chart.png\")\n",
    "plt.close()"
   ]
  },
  {
   "cell_type": "code",
   "execution_count": 7,
   "id": "3c9a5230-5777-47b8-afa5-62da1384e74d",
   "metadata": {},
   "outputs": [],
   "source": [
    "conn.close()"
   ]
  },
  {
   "cell_type": "code",
   "execution_count": null,
   "id": "eeda4c5d-f8a9-4e72-9529-f7b2b786bbd8",
   "metadata": {},
   "outputs": [],
   "source": []
  }
 ],
 "metadata": {
  "kernelspec": {
   "display_name": "Python 3 (ipykernel)",
   "language": "python",
   "name": "python3"
  },
  "language_info": {
   "codemirror_mode": {
    "name": "ipython",
    "version": 3
   },
   "file_extension": ".py",
   "mimetype": "text/x-python",
   "name": "python",
   "nbconvert_exporter": "python",
   "pygments_lexer": "ipython3",
   "version": "3.12.7"
  }
 },
 "nbformat": 4,
 "nbformat_minor": 5
}
